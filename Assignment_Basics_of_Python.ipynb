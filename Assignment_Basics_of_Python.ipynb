{
 "cells": [
  {
   "cell_type": "code",
   "execution_count": 11,
   "id": "91040636-dcb1-4101-ac41-d41b136ff7d3",
   "metadata": {},
   "outputs": [
    {
     "name": "stdin",
     "output_type": "stream",
     "text": [
      "Enter a number:  9\n"
     ]
    },
    {
     "name": "stdout",
     "output_type": "stream",
     "text": [
      "9 is not a prime number\n"
     ]
    }
   ],
   "source": [
    "# Basic Python Programming\n",
    "# Exercise 1: Prime Numbers\n",
    "# Write a Python program that checks whether a given number is prime or not. \n",
    "# A prime number is a natural number greater than 1 that has no positive divisors other than 1 and itself.\n",
    "\n",
    "# Read the numerical value from keyboard\n",
    "num = int(input(\"Enter a number: \"))\n",
    "\n",
    "# define a flag variable\n",
    "flag = False\n",
    "\n",
    "if num == 0 or num == 1:\n",
    "    print(num, \"is not a prime number\")\n",
    "elif num > 1:\n",
    "    # check for factors\n",
    "    for i in range(2, num):\n",
    "        if (num % i) == 0:\n",
    "            # if factor is found, set flag to True\n",
    "            flag = True\n",
    "            # break out of loop\n",
    "            break\n",
    "\n",
    "    # check if flag is True\n",
    "    if flag:\n",
    "        print(num, \"is not a prime number\")\n",
    "    else:\n",
    "        print(num, \"is a prime number\")"
   ]
  },
  {
   "cell_type": "code",
   "execution_count": null,
   "id": "a35f8775-434d-4910-8986-4bd1f7d2ff95",
   "metadata": {},
   "outputs": [],
   "source": [
    "# Exercise 2: Product of Random Numbers\n",
    "# Develop a Python program that generates two random numbers \n",
    "# and asks the user to enter the product of these numbers. \n",
    "# The program should then check if the user's answer is correct and display an appropriate message.\n",
    "\n",
    "# Import the random library  \n",
    "import random\n",
    "# Generate two random numbers\n",
    "num1 = random.randint(1, 10)\n",
    "num2 = random.randint(1, 10)\n",
    "\n",
    "# read user prediction\n",
    "n = int (input(\"Predict the product of two randam number\"))\n",
    "\n",
    "print(\"Product of two randma numbers is \",num1*num2)\n",
    "\n",
    "# Check user prediction is correct or not\n",
    "if n == (num1*num2):\n",
    "    print(\"Prediction is correct\")\n",
    "else:\n",
    "    print(\"Prediction is incorrect\")"
   ]
  },
  {
   "cell_type": "code",
   "execution_count": 3,
   "id": "fd7a74ad-84c6-407d-b1e6-75b2fcd7a2aa",
   "metadata": {},
   "outputs": [
    {
     "name": "stdout",
     "output_type": "stream",
     "text": [
      "101 square is  10201\n",
      "103 square is  10609\n",
      "105 square is  11025\n",
      "107 square is  11449\n",
      "109 square is  11881\n",
      "111 square is  12321\n",
      "113 square is  12769\n",
      "115 square is  13225\n",
      "117 square is  13689\n",
      "119 square is  14161\n",
      "121 square is  14641\n",
      "123 square is  15129\n",
      "125 square is  15625\n",
      "127 square is  16129\n",
      "129 square is  16641\n",
      "131 square is  17161\n",
      "133 square is  17689\n",
      "135 square is  18225\n",
      "137 square is  18769\n",
      "139 square is  19321\n",
      "141 square is  19881\n",
      "143 square is  20449\n",
      "145 square is  21025\n",
      "147 square is  21609\n",
      "149 square is  22201\n",
      "151 square is  22801\n",
      "153 square is  23409\n",
      "155 square is  24025\n",
      "157 square is  24649\n",
      "159 square is  25281\n",
      "161 square is  25921\n",
      "163 square is  26569\n",
      "165 square is  27225\n",
      "167 square is  27889\n",
      "169 square is  28561\n",
      "171 square is  29241\n",
      "173 square is  29929\n",
      "175 square is  30625\n",
      "177 square is  31329\n",
      "179 square is  32041\n",
      "181 square is  32761\n",
      "183 square is  33489\n",
      "185 square is  34225\n",
      "187 square is  34969\n",
      "189 square is  35721\n",
      "191 square is  36481\n",
      "193 square is  37249\n",
      "195 square is  38025\n",
      "197 square is  38809\n",
      "199 square is  39601\n"
     ]
    }
   ],
   "source": [
    "# Exercise 3: Squares of Even/Odd Numbers\n",
    "# Create a Python script that prints the squares of all even or odd numbers within the range of 100 to 200. \n",
    "# Choose either even or odd numbers and document your choice in the code.\n",
    "# Only ODD numbers are choosen\n",
    "for n in range(101, 200, 2):\n",
    "    print (n, \"square is \", n*n)"
   ]
  },
  {
   "cell_type": "code",
   "execution_count": 4,
   "id": "7b2e6fae-840f-4263-be60-c1cf2c080a5a",
   "metadata": {},
   "outputs": [
    {
     "name": "stdout",
     "output_type": "stream",
     "text": [
      "Anand : 1\n",
      "is : 3\n",
      "busy : 2\n",
      "this : 2\n",
      "Saturday : 1\n",
      "as : 1\n",
      "Anand's : 1\n",
      "mother-in-law : 1\n",
      "is : 3\n",
      "coming : 1\n",
      "to : 1\n",
      "Bangalore : 2\n",
      "this : 2\n",
      "Saterday : 1\n",
      "Bangalore : 2\n",
      "is : 3\n",
      "a : 1\n",
      "busy : 2\n",
      "city : 1\n"
     ]
    }
   ],
   "source": [
    "# Exercise 4: Word counter\n",
    "# write a program to count the number of words in a given text.\n",
    "import re\n",
    "sentence = \"Anand is busy this Saturday as Anand's mother-in-law is coming to Bangalore this Saterday. Bangalore is a busy city\"\n",
    "wordlist = re.findall(r\"\\b\\w+(?:[-']\\w+)*\\b\", sentence)\n",
    "#print(wordlist)\n",
    "count = 0\n",
    "for i in wordlist:\n",
    "    count = 0\n",
    "    for j in wordlist:\n",
    "        if i == j:\n",
    "            count+=1\n",
    "    print (i,\":\", count)   \n",
    "\n"
   ]
  },
  {
   "cell_type": "code",
   "execution_count": 5,
   "id": "389200dd-c345-4d25-8e71-7ced69ca924e",
   "metadata": {},
   "outputs": [
    {
     "name": "stdin",
     "output_type": "stream",
     "text": [
      "Enter a string killik\n"
     ]
    },
    {
     "name": "stdout",
     "output_type": "stream",
     "text": [
      "killik is a Polindram\n"
     ]
    }
   ],
   "source": [
    "# Exercise 5: Check for Palindrome\n",
    "# Write a Python function called is_palindrome that takes a string as input \n",
    "# and returns True if the string is a palindrome, and False otherwise. \n",
    "# A palindrome is a word, phrase, number, or other sequence of characters that reads \n",
    "# the same forward and backward, ignoring spaces, punctuation, and capitalization.\n",
    "\n",
    "# function which reverse of a string the string and compares\n",
    "# if the string is polindram it returns True(1) otherwise it returns False (0)\n",
    "def isPalindrome(strng):\n",
    "    \n",
    "    # Reverse the string\n",
    "    rev_strng = strng[::-1]\n",
    "    \n",
    "    # Compare the string\n",
    "    if rev_strng==strng:\n",
    "        return 1\n",
    "    else:\n",
    "        return 0\n",
    "        \n",
    "# Reas the string from keyboard    \n",
    "string = str (input(\"Enter a string\"))\n",
    "\n",
    "# Call function to check the string is polidram or not\n",
    "# based on the return value print the message\n",
    "if isPalindrome(string) == 1:\n",
    "    print(string, \"is a Polindram\")\n",
    "else:\n",
    "    print(string, \"is Not a Polindram\")\n"
   ]
  },
  {
   "cell_type": "markdown",
   "id": "54b96c7f-a06f-48fd-ab66-63d2e767dae5",
   "metadata": {},
   "source": []
  }
 ],
 "metadata": {
  "kernelspec": {
   "display_name": "Python 3 (ipykernel)",
   "language": "python",
   "name": "python3"
  },
  "language_info": {
   "codemirror_mode": {
    "name": "ipython",
    "version": 3
   },
   "file_extension": ".py",
   "mimetype": "text/x-python",
   "name": "python",
   "nbconvert_exporter": "python",
   "pygments_lexer": "ipython3",
   "version": "3.12.7"
  }
 },
 "nbformat": 4,
 "nbformat_minor": 5
}
