{
 "cells": [
  {
   "cell_type": "code",
   "execution_count": 1,
   "id": "5733d278-c02b-4726-9822-874589a0e330",
   "metadata": {},
   "outputs": [],
   "source": [
    "# CHI-SQUARE TEST\n",
    "# Association between Device Type and Customer Satisfaction\n",
    "\n",
    "# Background:\n",
    "# Mizzare Corporation has collected data on customer satisfaction levels \n",
    "# for two types of smart home devices: Smart Thermostats and Smart Lights. \n",
    "# They want to determine if there's a significant association between the \n",
    "# type of device purchased and the customer's satisfaction level.\n"
   ]
  },
  {
   "cell_type": "code",
   "execution_count": 2,
   "id": "f930bca5-cc2d-487a-8b6a-eb30e71c063b",
   "metadata": {},
   "outputs": [],
   "source": [
    "# Data Provided:\n",
    "# The data is summarized in a contingency table showing the counts of customers\n",
    "# in each satisfaction level for both types of devices:"
   ]
  },
  {
   "cell_type": "code",
   "execution_count": 3,
   "id": "76f5f3c1-98a5-4a28-85a6-689182fed10d",
   "metadata": {},
   "outputs": [
    {
     "data": {
      "text/html": [
       "<div>\n",
       "<style scoped>\n",
       "    .dataframe tbody tr th:only-of-type {\n",
       "        vertical-align: middle;\n",
       "    }\n",
       "\n",
       "    .dataframe tbody tr th {\n",
       "        vertical-align: top;\n",
       "    }\n",
       "\n",
       "    .dataframe thead th {\n",
       "        text-align: right;\n",
       "    }\n",
       "</style>\n",
       "<table border=\"1\" class=\"dataframe\">\n",
       "  <thead>\n",
       "    <tr style=\"text-align: right;\">\n",
       "      <th></th>\n",
       "      <th>Satisfaction</th>\n",
       "      <th>Smart Thermostat</th>\n",
       "      <th>Smart Light</th>\n",
       "      <th>Total</th>\n",
       "    </tr>\n",
       "  </thead>\n",
       "  <tbody>\n",
       "    <tr>\n",
       "      <th>0</th>\n",
       "      <td>Very Satisfied</td>\n",
       "      <td>50</td>\n",
       "      <td>70</td>\n",
       "      <td>120</td>\n",
       "    </tr>\n",
       "    <tr>\n",
       "      <th>1</th>\n",
       "      <td>Satisfied</td>\n",
       "      <td>80</td>\n",
       "      <td>100</td>\n",
       "      <td>180</td>\n",
       "    </tr>\n",
       "    <tr>\n",
       "      <th>2</th>\n",
       "      <td>Neutral</td>\n",
       "      <td>60</td>\n",
       "      <td>90</td>\n",
       "      <td>150</td>\n",
       "    </tr>\n",
       "    <tr>\n",
       "      <th>3</th>\n",
       "      <td>Unsatisfied</td>\n",
       "      <td>30</td>\n",
       "      <td>50</td>\n",
       "      <td>80</td>\n",
       "    </tr>\n",
       "    <tr>\n",
       "      <th>4</th>\n",
       "      <td>Very Unsatisfied</td>\n",
       "      <td>20</td>\n",
       "      <td>50</td>\n",
       "      <td>70</td>\n",
       "    </tr>\n",
       "    <tr>\n",
       "      <th>5</th>\n",
       "      <td>Total</td>\n",
       "      <td>240</td>\n",
       "      <td>360</td>\n",
       "      <td>600</td>\n",
       "    </tr>\n",
       "  </tbody>\n",
       "</table>\n",
       "</div>"
      ],
      "text/plain": [
       "       Satisfaction  Smart Thermostat  Smart Light  Total\n",
       "0    Very Satisfied                50           70    120\n",
       "1         Satisfied                80          100    180\n",
       "2           Neutral                60           90    150\n",
       "3       Unsatisfied                30           50     80\n",
       "4  Very Unsatisfied                20           50     70\n",
       "5             Total               240          360    600"
      ]
     },
     "execution_count": 3,
     "metadata": {},
     "output_type": "execute_result"
    }
   ],
   "source": [
    "# Step1:Import required libraries\n",
    "import pandas as pd\n",
    "df=pd.read_csv(r\"customer satisfaction levels.csv\")\n",
    "df\n",
    "\n"
   ]
  },
  {
   "cell_type": "code",
   "execution_count": 4,
   "id": "0f174d72-af3a-42c3-9555-073bc0f045c2",
   "metadata": {},
   "outputs": [
    {
     "data": {
      "text/plain": [
       "array([[ 50,  70],\n",
       "       [ 80, 100],\n",
       "       [ 60,  90],\n",
       "       [ 30,  50],\n",
       "       [ 20,  50]], dtype=int64)"
      ]
     },
     "execution_count": 4,
     "metadata": {},
     "output_type": "execute_result"
    }
   ],
   "source": [
    "import numpy as np\n",
    "import scipy.stats as stats\n",
    "from scipy.stats import chi2_contingency\n",
    "\n",
    "# Read the data from the table without considering total value\n",
    "observed_values = df.iloc[0:5:,[1,2]].values\n",
    "observed_values"
   ]
  },
  {
   "cell_type": "code",
   "execution_count": 5,
   "id": "4bea4d9a-f790-4ef4-8613-218875b5874a",
   "metadata": {},
   "outputs": [
    {
     "data": {
      "text/plain": [
       "array([[ 48.,  72.],\n",
       "       [ 72., 108.],\n",
       "       [ 60.,  90.],\n",
       "       [ 32.,  48.],\n",
       "       [ 28.,  42.]])"
      ]
     },
     "execution_count": 5,
     "metadata": {},
     "output_type": "execute_result"
    }
   ],
   "source": [
    "# find out expected_values using chi2_contingency()\n",
    "val=stats.chi2_contingency(observed_values)\n",
    "expected_values=val[3]\n",
    "expected_values"
   ]
  },
  {
   "cell_type": "code",
   "execution_count": 6,
   "id": "96d222f5-ee4b-4d49-aa0b-6e3e12002cff",
   "metadata": {},
   "outputs": [],
   "source": [
    "# degree of freedom\n",
    "no_of_rows=len(df.iloc[0:5,0])\n",
    "no_of_cloumns=len(df.iloc[0,0:2])\n",
    "ddof=(no_of_rows-1)*(no_of_cloumns-1)"
   ]
  },
  {
   "cell_type": "code",
   "execution_count": 7,
   "id": "82ebebcf-fbcf-4882-92f6-7f7bc5827b25",
   "metadata": {},
   "outputs": [
    {
     "data": {
      "text/plain": [
       "array([3.38293651, 2.25529101])"
      ]
     },
     "execution_count": 7,
     "metadata": {},
     "output_type": "execute_result"
    }
   ],
   "source": [
    "# calculate chi_square\n",
    "from scipy.stats import chi2\n",
    "chi_square=sum([(o-e)**2./e for o,e in zip(observed_values,expected_values)])\n",
    "chi_square"
   ]
  },
  {
   "cell_type": "code",
   "execution_count": 8,
   "id": "9ccbc3bd-f776-4511-9276-fc1e15cc2cd7",
   "metadata": {},
   "outputs": [
    {
     "data": {
      "text/plain": [
       "5.638227513227513"
      ]
     },
     "execution_count": 8,
     "metadata": {},
     "output_type": "execute_result"
    }
   ],
   "source": [
    "# calculate chi_square_statastic\n",
    "chi_square_statastic=chi_square[0]+chi_square[1]\n",
    "chi_square_statastic"
   ]
  },
  {
   "cell_type": "code",
   "execution_count": 9,
   "id": "f27d4dc5-4c64-4668-b4ee-219d510db4e1",
   "metadata": {},
   "outputs": [
    {
     "data": {
      "text/plain": [
       "9.487729036781154"
      ]
     },
     "execution_count": 9,
     "metadata": {},
     "output_type": "execute_result"
    }
   ],
   "source": [
    "# Calculate the critical_value using chi2.ppf()\n",
    "alpha = 0.05\n",
    "critical_value=chi2.ppf(q=1-alpha,df=ddof)\n",
    "critical_value"
   ]
  },
  {
   "cell_type": "code",
   "execution_count": 10,
   "id": "78cb3594-afa1-4029-879f-2af2c1534b1b",
   "metadata": {},
   "outputs": [
    {
     "name": "stdout",
     "output_type": "stream",
     "text": [
      "Retain Null Hypothesis\n"
     ]
    }
   ],
   "source": [
    "if chi_square_statastic >= critical_value:\n",
    "    print(\"Reject Null Hypothesis\")\n",
    "else:\n",
    "    print(\"Retain Null Hypothesis\")"
   ]
  },
  {
   "cell_type": "code",
   "execution_count": 11,
   "id": "420cf278-b7d5-4c85-9b43-902130384500",
   "metadata": {},
   "outputs": [],
   "source": [
    "# Conclusion:\n",
    "# There's a significant association between \n",
    "# the type of device purchased and the customer's satisfaction level."
   ]
  },
  {
   "cell_type": "code",
   "execution_count": null,
   "id": "744fe715-a6d8-4e5f-8b0f-6b8d6919ac8b",
   "metadata": {},
   "outputs": [],
   "source": []
  }
 ],
 "metadata": {
  "kernelspec": {
   "display_name": "Python 3 (ipykernel)",
   "language": "python",
   "name": "python3"
  },
  "language_info": {
   "codemirror_mode": {
    "name": "ipython",
    "version": 3
   },
   "file_extension": ".py",
   "mimetype": "text/x-python",
   "name": "python",
   "nbconvert_exporter": "python",
   "pygments_lexer": "ipython3",
   "version": "3.12.7"
  }
 },
 "nbformat": 4,
 "nbformat_minor": 5
}
